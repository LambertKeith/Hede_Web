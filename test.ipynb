{
 "cells": [
  {
   "cell_type": "code",
   "execution_count": 7,
   "metadata": {},
   "outputs": [
    {
     "name": "stdout",
     "output_type": "stream",
     "text": [
      "替换完成！\n"
     ]
    }
   ],
   "source": [
    "# 读取原始文件\n",
    "with open('production_settings.py', 'r', encoding='utf-8') as f:\n",
    "    original_content = f.read()\n",
    "\n",
    "# 替换数据库信息\n",
    "new_content = original_content.replace(\n",
    "    \"'NAME': 'web_test'\",\n",
    "    \"'NAME': 'new_database_name'\"\n",
    ").replace(\n",
    "    \"'USER': 'app01'\",\n",
    "    \"'USER': 'new_username'\"\n",
    ").replace(\n",
    "    \"'PASSWORD': '111111'\",\n",
    "    \"'PASSWORD': 'new_password'\"\n",
    ")\n",
    "\n",
    "# 写入更新后的内容到新文件\n",
    "with open('updated_file.py', 'w', encoding='utf-8') as f:\n",
    "    f.write(new_content)\n",
    "\n",
    "print(\"替换完成！\")\n"
   ]
  },
  {
   "cell_type": "code",
   "execution_count": 1,
   "metadata": {},
   "outputs": [
    {
     "name": "stdout",
     "output_type": "stream",
     "text": [
      "替换完成！\n"
     ]
    }
   ],
   "source": [
    "import packing\n",
    "packer = packing.Packer()\n"
   ]
  }
 ],
 "metadata": {
  "kernelspec": {
   "display_name": ".venv",
   "language": "python",
   "name": "python3"
  },
  "language_info": {
   "codemirror_mode": {
    "name": "ipython",
    "version": 3
   },
   "file_extension": ".py",
   "mimetype": "text/x-python",
   "name": "python",
   "nbconvert_exporter": "python",
   "pygments_lexer": "ipython3",
   "version": "3.10.6"
  }
 },
 "nbformat": 4,
 "nbformat_minor": 2
}
